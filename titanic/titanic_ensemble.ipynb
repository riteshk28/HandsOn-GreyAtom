{
 "cells": [
  {
   "cell_type": "code",
   "execution_count": 1,
   "metadata": {
    "collapsed": true
   },
   "outputs": [],
   "source": [
    "# Importing necessary packages\n",
    "import pandas as pd\n",
    "import numpy as np\n",
    "from sklearn.tree import DecisionTreeClassifier\n",
    "from sklearn.metrics import accuracy_score\n",
    "from sklearn.model_selection import train_test_split\n",
    "from sklearn import preprocessing\n",
    "from sklearn.metrics import accuracy_score\n",
    "from sklearn.ensemble import BaggingClassifier, VotingClassifier\n",
    "from sklearn.linear_model import LogisticRegression"
   ]
  },
  {
   "cell_type": "code",
   "execution_count": 2,
   "metadata": {
    "collapsed": true
   },
   "outputs": [],
   "source": [
    "dataframe = pd.read_csv('train.csv')\n",
    "dataframe.head()\n",
    "le = preprocessing.LabelEncoder()\n",
    "dataframe = dataframe.apply(le.fit_transform)\n",
    "\n",
    "y = dataframe['Survived']\n",
    "X = dataframe.drop(['Survived', 'Name', 'PassengerId', 'Ticket', 'Cabin'], axis=1)\n",
    "X_train,X_test,y_train,y_test = train_test_split(X,y,test_size = 0.2, random_state=9)"
   ]
  },
  {
   "cell_type": "code",
   "execution_count": 34,
   "metadata": {},
   "outputs": [],
   "source": [
    "bagging_clf1 = BaggingClassifier(LogisticRegression(), n_estimators=100, max_samples=100, \n",
    "                                bootstrap=True, random_state=9)\n",
    "\n",
    "bagging_clf1.fit(X_train, y_train)\n",
    "y_pred_bagging = bagging_clf1.predict(X_test)\n",
    "score_bc_lr = accuracy_score(y_test, y_pred_bagging)\n",
    "\n",
    "bagging_clf2 = BaggingClassifier(DecisionTreeClassifier(), n_estimators=100, max_samples=100,\n",
    "                                bootstrap=True, random_state=9)\n",
    "\n",
    "bagging_clf2.fit(X_train, y_train)\n",
    "y_pred_bagging = bagging_clf2.predict(X_test)\n",
    "score_bc_dt = accuracy_score(y_test, y_pred_bagging)\n",
    "\n",
    "\n",
    "#use soft classifier for combining bagging_clf1 and bagging_clf2 to get predicted y on X_test.\n",
    "#As discussed above, use this output as target in the meta classifier.\n",
    "\n",
    "voting_clf_soft = VotingClassifier(estimators = [('bagging_lr', bagging_clf1), \n",
    "                                                 ('bagging_dt', bagging_clf2)],voting='soft')\n",
    "voting_clf_soft.fit(X_train, y_train)\n",
    "voting_prediction = voting_clf_soft.predict(X_test)\n",
    "score_voting = accuracy_score(voting_prediction, y_test)"
   ]
  },
  {
   "cell_type": "code",
   "execution_count": 26,
   "metadata": {},
   "outputs": [
    {
     "name": "stdout",
     "output_type": "stream",
     "text": [
      "0.782122905028\n",
      "0.748603351955\n",
      "0.787709497207\n"
     ]
    }
   ],
   "source": [
    "print score_bc_dt\n",
    "print score_bc_lr\n",
    "print score_voting"
   ]
  },
  {
   "cell_type": "code",
   "execution_count": 37,
   "metadata": {},
   "outputs": [],
   "source": [
    "predicted1 = pd.DataFrame(bagging_clf1.predict_proba(X_test))\n",
    "predicted2 = pd.DataFrame(bagging_clf2.predict_proba(X_test))\n",
    "predicted3 = pd.DataFrame(voting_clf_soft.predict_proba(X_test))\n",
    "predicted4 = pd.DataFrame(voting_clf_soft.predict(X_test))"
   ]
  },
  {
   "cell_type": "code",
   "execution_count": 38,
   "metadata": {},
   "outputs": [
    {
     "name": "stdout",
     "output_type": "stream",
     "text": [
      "          0         1\n",
      "0  0.434946  0.565054\n",
      "1  0.875664  0.124336\n",
      "2  0.833414  0.166586\n",
      "3  0.511722  0.488278\n",
      "4  0.461716  0.538284\n",
      "(179, 2)\n",
      "       0      1\n",
      "0  0.500  0.500\n",
      "1  0.960  0.040\n",
      "2  0.915  0.085\n",
      "3  0.850  0.150\n",
      "4  0.400  0.600\n",
      "(179, 2)\n",
      "          0         1\n",
      "0  0.467473  0.532527\n",
      "1  0.917832  0.082168\n",
      "2  0.874207  0.125793\n",
      "3  0.680861  0.319139\n",
      "4  0.430858  0.569142\n",
      "(179, 2)\n",
      "   0\n",
      "0  1\n",
      "1  0\n",
      "2  0\n",
      "3  0\n",
      "4  1\n",
      "(179, 1)\n"
     ]
    }
   ],
   "source": [
    "print predicted1.head()\n",
    "print predicted1.shape\n",
    "\n",
    "print predicted2.head()\n",
    "print predicted2.shape\n",
    "\n",
    "print predicted3.head()\n",
    "print predicted3.shape\n",
    "\n",
    "print predicted4.head()\n",
    "print predicted4.shape"
   ]
  },
  {
   "cell_type": "code",
   "execution_count": 39,
   "metadata": {},
   "outputs": [
    {
     "name": "stdout",
     "output_type": "stream",
     "text": [
      "(179L,)\n",
      "(179L,)\n"
     ]
    }
   ],
   "source": [
    "p1 = predicted1[0]\n",
    "p2 = predicted2[0]\n",
    "print p1.shape\n",
    "print p2.shape"
   ]
  },
  {
   "cell_type": "code",
   "execution_count": 40,
   "metadata": {},
   "outputs": [],
   "source": [
    "meta_x = pd.concat([p1, p2], axis=1)\n",
    "meta_y = predicted4[0]"
   ]
  },
  {
   "cell_type": "code",
   "execution_count": 44,
   "metadata": {},
   "outputs": [],
   "source": [
    "meta_clf = DecisionTreeClassifier(criterion='gini')\n",
    "meta_fit = meta_clf.fit(meta_x,meta_y)\n",
    "meta_predict = meta_clf.predict(predicted3)"
   ]
  },
  {
   "cell_type": "code",
   "execution_count": 45,
   "metadata": {},
   "outputs": [
    {
     "data": {
      "text/plain": [
       "0.74860335195530725"
      ]
     },
     "execution_count": 45,
     "metadata": {},
     "output_type": "execute_result"
    }
   ],
   "source": [
    "accuracy_score(meta_predict, y_test)"
   ]
  },
  {
   "cell_type": "code",
   "execution_count": null,
   "metadata": {
    "collapsed": true
   },
   "outputs": [],
   "source": []
  },
  {
   "cell_type": "code",
   "execution_count": null,
   "metadata": {
    "collapsed": true
   },
   "outputs": [],
   "source": []
  },
  {
   "cell_type": "code",
   "execution_count": null,
   "metadata": {
    "collapsed": true
   },
   "outputs": [],
   "source": []
  },
  {
   "cell_type": "code",
   "execution_count": null,
   "metadata": {
    "collapsed": true
   },
   "outputs": [],
   "source": []
  },
  {
   "cell_type": "code",
   "execution_count": null,
   "metadata": {
    "collapsed": true
   },
   "outputs": [],
   "source": []
  },
  {
   "cell_type": "code",
   "execution_count": null,
   "metadata": {
    "collapsed": true
   },
   "outputs": [],
   "source": []
  },
  {
   "cell_type": "code",
   "execution_count": null,
   "metadata": {
    "collapsed": true
   },
   "outputs": [],
   "source": []
  },
  {
   "cell_type": "code",
   "execution_count": null,
   "metadata": {
    "collapsed": true
   },
   "outputs": [],
   "source": []
  },
  {
   "cell_type": "code",
   "execution_count": null,
   "metadata": {
    "collapsed": true
   },
   "outputs": [],
   "source": []
  },
  {
   "cell_type": "code",
   "execution_count": null,
   "metadata": {
    "collapsed": true
   },
   "outputs": [],
   "source": []
  },
  {
   "cell_type": "code",
   "execution_count": null,
   "metadata": {
    "collapsed": true
   },
   "outputs": [],
   "source": []
  },
  {
   "cell_type": "code",
   "execution_count": null,
   "metadata": {
    "collapsed": true
   },
   "outputs": [],
   "source": []
  },
  {
   "cell_type": "code",
   "execution_count": null,
   "metadata": {
    "collapsed": true
   },
   "outputs": [],
   "source": []
  },
  {
   "cell_type": "code",
   "execution_count": null,
   "metadata": {
    "collapsed": true
   },
   "outputs": [],
   "source": []
  },
  {
   "cell_type": "code",
   "execution_count": null,
   "metadata": {
    "collapsed": true
   },
   "outputs": [],
   "source": []
  },
  {
   "cell_type": "code",
   "execution_count": null,
   "metadata": {
    "collapsed": true
   },
   "outputs": [],
   "source": []
  },
  {
   "cell_type": "code",
   "execution_count": null,
   "metadata": {
    "collapsed": true
   },
   "outputs": [],
   "source": []
  },
  {
   "cell_type": "code",
   "execution_count": null,
   "metadata": {
    "collapsed": true
   },
   "outputs": [],
   "source": []
  },
  {
   "cell_type": "code",
   "execution_count": null,
   "metadata": {
    "collapsed": true
   },
   "outputs": [],
   "source": []
  }
 ],
 "metadata": {
  "kernelspec": {
   "display_name": "Python 2",
   "language": "python",
   "name": "python2"
  },
  "language_info": {
   "codemirror_mode": {
    "name": "ipython",
    "version": 2
   },
   "file_extension": ".py",
   "mimetype": "text/x-python",
   "name": "python",
   "nbconvert_exporter": "python",
   "pygments_lexer": "ipython2",
   "version": "2.7.14"
  }
 },
 "nbformat": 4,
 "nbformat_minor": 2
}
